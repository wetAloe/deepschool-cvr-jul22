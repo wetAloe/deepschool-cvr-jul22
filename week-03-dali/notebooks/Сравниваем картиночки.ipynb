{
 "cells": [
  {
   "cell_type": "markdown",
   "id": "imported-revolution",
   "metadata": {
    "pycharm": {
     "name": "#%% md\n"
    }
   },
   "source": [
    "# Сравниваем исходные картинки\n",
    "\n",
    "Не забываем убрать нормализацию"
   ]
  },
  {
   "cell_type": "code",
   "execution_count": null,
   "id": "pediatric-guyana",
   "metadata": {
    "pycharm": {
     "name": "#%%\n"
    }
   },
   "outputs": [],
   "source": [
    "%load_ext autoreload\n",
    "%autoreload 2"
   ]
  },
  {
   "cell_type": "code",
   "execution_count": null,
   "id": "unable-amsterdam",
   "metadata": {
    "pycharm": {
     "name": "#%%\n"
    }
   },
   "outputs": [],
   "source": [
    "from IPython.core.interactiveshell import InteractiveShell\n",
    "InteractiveShell.ast_node_interactivity = 'all'\n",
    "\n",
    "import warnings\n",
    "warnings.simplefilter('ignore')\n",
    "\n",
    "import gc\n",
    "\n",
    "from os import path\n",
    "import sys\n",
    "sys.path.append(path.abspath('..'))"
   ]
  },
  {
   "cell_type": "code",
   "execution_count": null,
   "id": "searching-thailand",
   "metadata": {
    "pycharm": {
     "name": "#%%\n"
    }
   },
   "outputs": [],
   "source": [
    "from nvidia.dali.plugin.pytorch import DALIGenericIterator\n",
    "import torch\n",
    "import numpy as np\n",
    "from torch.utils.data import DataLoader\n",
    "import matplotlib.pyplot as plt\n",
    "from matplotlib.cm import ScalarMappable\n",
    "from matplotlib.colors import Normalize\n",
    "\n",
    "from src.dali import CustomPipeline\n",
    "from src.pytorch import TorchDataset, CV2Dataset"
   ]
  },
  {
   "cell_type": "code",
   "execution_count": null,
   "id": "periodic-committee",
   "metadata": {
    "pycharm": {
     "name": "#%%\n"
    }
   },
   "outputs": [],
   "source": [
    "BATCH_SIZE = 1\n",
    "IDX = 0"
   ]
  },
  {
   "cell_type": "code",
   "execution_count": null,
   "id": "weighted-bulgarian",
   "metadata": {
    "pycharm": {
     "name": "#%%\n"
    }
   },
   "outputs": [],
   "source": [
    "pipeline = CustomPipeline(batch_size=BATCH_SIZE, num_threads = 8, device_id = 0)\n",
    "dali_iterator = DALIGenericIterator(pipeline, ['image', 'labels'], size=68811-7)"
   ]
  },
  {
   "cell_type": "code",
   "execution_count": null,
   "id": "abstract-personality",
   "metadata": {
    "pycharm": {
     "name": "#%%\n"
    }
   },
   "outputs": [],
   "source": [
    "torch_dataset = TorchDataset()\n",
    "torch_dataloader = DataLoader(torch_dataset, batch_size=BATCH_SIZE, num_workers=8, pin_memory=True)\n",
    "\n",
    "cv2_dataset = CV2Dataset()\n",
    "cv2_dataloader = DataLoader(cv2_dataset, batch_size=BATCH_SIZE, num_workers=8, pin_memory=True)"
   ]
  },
  {
   "cell_type": "code",
   "execution_count": null,
   "id": "crucial-currency",
   "metadata": {
    "pycharm": {
     "name": "#%%\n"
    }
   },
   "outputs": [],
   "source": [
    "for dali_data in dali_iterator:\n",
    "    break"
   ]
  },
  {
   "cell_type": "code",
   "execution_count": null,
   "id": "documentary-development",
   "metadata": {
    "pycharm": {
     "name": "#%%\n"
    }
   },
   "outputs": [],
   "source": [
    "for torch_data in torch_dataloader:\n",
    "    break"
   ]
  },
  {
   "cell_type": "code",
   "execution_count": null,
   "id": "positive-throw",
   "metadata": {
    "pycharm": {
     "name": "#%%\n"
    }
   },
   "outputs": [],
   "source": [
    "for cv2_data in cv2_dataloader:\n",
    "    break"
   ]
  },
  {
   "cell_type": "code",
   "execution_count": null,
   "id": "cardiac-volume",
   "metadata": {
    "pycharm": {
     "name": "#%%\n"
    }
   },
   "outputs": [],
   "source": [
    "# Сравниваем размеры батчей\n",
    "print(f'Размер батча в dali:       {dali_data[0][\"image\"].cpu().numpy().shape}')\n",
    "print(f'Размер батча в torchvison: {torch_data[\"image\"].cpu().numpy().shape}')\n",
    "print(f'Размер батча в cv2:        {cv2_data[\"image\"].cpu().numpy().shape}')"
   ]
  },
  {
   "cell_type": "code",
   "execution_count": null,
   "id": "painful-practitioner",
   "metadata": {
    "pycharm": {
     "name": "#%%\n"
    }
   },
   "outputs": [],
   "source": [
    "# Посмотрим на разницу картинок\n",
    "print('dali vs. torchvision:', torch.abs(dali_data[0]['image'].cpu().float() - torch_data['image'].float()).max().item())\n",
    "print('dali vs. cv2        :', torch.abs(dali_data[0]['image'].cpu().float() - cv2_data['image'].float()).max().item())\n",
    "print('cv2 vs. torchvision :', torch.abs(cv2_data['image'].float() - torch_data['image'].float()).max().item())"
   ]
  },
  {
   "cell_type": "code",
   "execution_count": null,
   "id": "formal-advisory",
   "metadata": {
    "scrolled": false,
    "pycharm": {
     "name": "#%%\n"
    }
   },
   "outputs": [],
   "source": [
    "# Может картинки не те?\n",
    "\n",
    "f, (ax1, ax2, ax3) = plt.subplots(1, 3, figsize=(20, 10))\n",
    "\n",
    "_ = ax1.imshow(dali_data[0]['image'].cpu().numpy()[IDX])\n",
    "_ = ax1.axis('off')\n",
    "\n",
    "_ = ax2.imshow(torch_data['image'].numpy()[IDX])\n",
    "_ = ax2.axis('off')\n",
    "\n",
    "_ = ax3.imshow(cv2_data['image'].numpy()[IDX])\n",
    "_ = ax3.axis('off')"
   ]
  },
  {
   "cell_type": "code",
   "execution_count": null,
   "id": "grave-defensive",
   "metadata": {
    "pycharm": {
     "name": "#%%\n"
    }
   },
   "outputs": [],
   "source": [
    "# Визуализируем разницу dali vs torchvision\n",
    "f, (ax1, ax2, ax3) = plt.subplots(1, 3, figsize=(20, 10))\n",
    "print(\n",
    "    'Среднее абсолютное отклонение в абсолютных значениях',\n",
    "    np.abs((dali_data[0]['image'].cpu().float() - torch_data['image'].float()).numpy()).mean(),\n",
    ")\n",
    "\n",
    "_ = ax1.imshow((dali_data[0]['image'].cpu().float() - torch_data['image'].float()).numpy()[IDX][..., 0]/255)\n",
    "_ = ax1.axis('off')\n",
    "_ = f.colorbar(ScalarMappable(Normalize(-1, 1)), ax=ax1)\n",
    "\n",
    "_ = ax2.imshow((dali_data[0]['image'].cpu().float() - torch_data['image'].float()).numpy()[IDX][..., 1]/255)\n",
    "_ = ax2.axis('off')\n",
    "_ = f.colorbar(ScalarMappable(Normalize(-1, 1)), ax=ax2)\n",
    "\n",
    "_ = ax3.imshow((dali_data[0]['image'].cpu().float() - torch_data['image'].float()).numpy()[IDX][..., 2]/255)\n",
    "_ = ax3.axis('off')\n",
    "_ = f.colorbar(ScalarMappable(Normalize(-1, 1)), ax=ax3)"
   ]
  },
  {
   "cell_type": "code",
   "execution_count": null,
   "id": "whole-impression",
   "metadata": {
    "pycharm": {
     "name": "#%%\n"
    }
   },
   "outputs": [],
   "source": [
    "# Визуализируем разницу dali vs cv2\n",
    "f, (ax1, ax2, ax3) = plt.subplots(1, 3, figsize=(20, 10))\n",
    "\n",
    "print(\n",
    "    'Среднее абсолютное отклонение в абсолютных значениях',\n",
    "    np.abs((dali_data[0]['image'].cpu().float() - cv2_data['image'].float()).numpy()).mean(),\n",
    ")\n",
    "\n",
    "_ = ax1.imshow((dali_data[0]['image'].cpu().float() - cv2_data['image'].float()).numpy()[IDX][..., 0]/255)\n",
    "_ = ax1.axis('off')\n",
    "_ = f.colorbar(ScalarMappable(Normalize(-1, 1)), ax=ax1)\n",
    "\n",
    "_ = ax2.imshow((dali_data[0]['image'].cpu().float() - cv2_data['image'].float()).numpy()[IDX][..., 1]/255)\n",
    "_ = ax2.axis('off')\n",
    "_ = f.colorbar(ScalarMappable(Normalize(-1, 1)), ax=ax2)\n",
    "\n",
    "_ = ax3.imshow((dali_data[0]['image'].cpu().float() - cv2_data['image'].float()).numpy()[IDX][..., 2]/255)\n",
    "_ = ax3.axis('off')\n",
    "_ = f.colorbar(ScalarMappable(Normalize(-1, 1)), ax=ax3)"
   ]
  },
  {
   "cell_type": "code",
   "execution_count": null,
   "id": "boring-cannon",
   "metadata": {
    "pycharm": {
     "name": "#%%\n"
    }
   },
   "outputs": [],
   "source": [
    "# Визуализируем разницу torchvision vs cv2\n",
    "f, (ax1, ax2, ax3) = plt.subplots(1, 3, figsize=(20, 10))\n",
    "print(\n",
    "    'Среднее абсолютное отклонение в абсолютных значениях',\n",
    "    np.abs((torch_data['image'].float() - cv2_data['image'].float()).numpy()).mean(),\n",
    ")\n",
    "\n",
    "_ = ax1.imshow((torch_data['image'].float() - cv2_data['image'].float()).numpy()[IDX][..., 0]/255)\n",
    "_ = ax1.axis('off')\n",
    "_ = f.colorbar(ScalarMappable(Normalize(-1, 1)), ax=ax1)\n",
    "\n",
    "_ = ax2.imshow((torch_data['image'].float() - cv2_data['image'].float()).numpy()[IDX][..., 1]/255)\n",
    "_ = ax2.axis('off')\n",
    "_ = f.colorbar(ScalarMappable(Normalize(-1, 1)), ax=ax2)\n",
    "\n",
    "_ = ax3.imshow((torch_data['image'].float() - cv2_data['image'].float()).numpy()[IDX][..., 2]/255)\n",
    "_ = ax3.axis('off')\n",
    "_ = f.colorbar(ScalarMappable(Normalize(-1, 1)), ax=ax3)"
   ]
  },
  {
   "cell_type": "code",
   "execution_count": null,
   "id": "loose-valuable",
   "metadata": {
    "pycharm": {
     "name": "#%%\n"
    }
   },
   "outputs": [],
   "source": []
  }
 ],
 "metadata": {
  "kernelspec": {
   "display_name": "Python 3 (ipykernel)",
   "language": "python",
   "name": "python3"
  },
  "language_info": {
   "codemirror_mode": {
    "name": "ipython",
    "version": 3
   },
   "file_extension": ".py",
   "mimetype": "text/x-python",
   "name": "python",
   "nbconvert_exporter": "python",
   "pygments_lexer": "ipython3",
   "version": "3.8.13"
  }
 },
 "nbformat": 4,
 "nbformat_minor": 5
}