{
 "cells": [
  {
   "cell_type": "code",
   "execution_count": null,
   "id": "inclusive-concept",
   "metadata": {
    "pycharm": {
     "name": "#%%\n"
    }
   },
   "outputs": [],
   "source": [
    "%load_ext autoreload\n",
    "%autoreload 2"
   ]
  },
  {
   "cell_type": "code",
   "execution_count": null,
   "id": "medieval-conditioning",
   "metadata": {
    "pycharm": {
     "name": "#%%\n"
    }
   },
   "outputs": [],
   "source": [
    "from IPython.core.interactiveshell import InteractiveShell\n",
    "InteractiveShell.ast_node_interactivity = 'all'\n",
    "\n",
    "import warnings\n",
    "warnings.simplefilter('ignore')\n",
    "\n",
    "import gc\n",
    "\n",
    "from os import path\n",
    "import sys\n",
    "sys.path.append(path.abspath('..'))"
   ]
  },
  {
   "cell_type": "code",
   "execution_count": null,
   "id": "ancient-deviation",
   "metadata": {
    "pycharm": {
     "name": "#%%\n"
    }
   },
   "outputs": [],
   "source": [
    "import types\n",
    "import numpy as np\n",
    "from nvidia.dali.pipeline import Pipeline\n",
    "import nvidia.dali.types as types\n",
    "import nvidia.dali.ops as ops\n",
    "from glob import glob"
   ]
  },
  {
   "cell_type": "code",
   "execution_count": null,
   "id": "challenging-reunion",
   "metadata": {
    "pycharm": {
     "name": "#%%\n"
    }
   },
   "outputs": [],
   "source": [
    "import matplotlib.gridspec as gridspec\n",
    "import matplotlib.pyplot as plt\n",
    "%matplotlib inline\n",
    "\n",
    "def show_images(image_batch):\n",
    "    columns = 4\n",
    "    rows = (8 + 1) // (columns)\n",
    "    fig = plt.figure(figsize = (32,(32 // columns) * rows))\n",
    "    gs = gridspec.GridSpec(rows, columns)\n",
    "    for j in range(rows * columns):\n",
    "        plt.subplot(gs[j])\n",
    "        plt.axis(\"off\")\n",
    "        plt.imshow(image_batch.at(j))"
   ]
  },
  {
   "cell_type": "code",
   "execution_count": null,
   "id": "proper-bosnia",
   "metadata": {
    "pycharm": {
     "name": "#%%\n"
    }
   },
   "outputs": [],
   "source": [
    "class ExternalInputIterator:\n",
    "    def __init__(self, batch_size: int):\n",
    "        self.fnames = glob('/workspace/project/data/images/*.jpg')\n",
    "        self.fnames.remove('/workspace/project/data/images/broken_image.jpg')\n",
    "        self.batch_size = batch_size\n",
    "\n",
    "    def __iter__(self):\n",
    "        self.i = 0\n",
    "        self.n = len(self.fnames)\n",
    "        return self\n",
    "\n",
    "    def __next__(self):\n",
    "        batch = []\n",
    "        labels = []\n",
    "        for _ in range(self.batch_size):\n",
    "            filename_jpg = self.fnames[self.i]\n",
    "            label = np.random.randint(0, 2, size=(5,)).astype(np.float32)\n",
    "            with open(filename_jpg, 'rb') as f:\n",
    "                batch.append(np.frombuffer(f.read(), dtype=np.uint8))\n",
    "            labels.append(label)\n",
    "            self.i = (self.i + 1) % self.n\n",
    "        return batch, labels"
   ]
  },
  {
   "cell_type": "code",
   "execution_count": null,
   "id": "subjective-freight",
   "metadata": {
    "pycharm": {
     "name": "#%%\n"
    }
   },
   "outputs": [],
   "source": [
    "class CustomPipeline(Pipeline):\n",
    "    def __init__(self, batch_size: int, num_threads: int, device_id: int):\n",
    "        super().__init__(batch_size=batch_size, num_threads=num_threads, device_id=device_id)\n",
    "\n",
    "        self.input = ops.ExternalSource(source=ExternalInputIterator(batch_size), num_outputs=2)\n",
    "        self.decoder = ops.ImageDecoder(device='mixed', output_type=types.RGB)\n",
    "        self.resize = ops.Resize(device='gpu', size=(224, 224))\n",
    "\n",
    "    def define_graph(self):\n",
    "        jpegs, labels = self.input()\n",
    "        images = self.decoder(jpegs)\n",
    "        images = self.resize(images)\n",
    "\n",
    "        return images, labels.gpu()"
   ]
  },
  {
   "cell_type": "code",
   "execution_count": null,
   "id": "fitting-liechtenstein",
   "metadata": {
    "pycharm": {
     "name": "#%%\n"
    }
   },
   "outputs": [],
   "source": [
    "pipeline = CustomPipeline(batch_size=16, num_threads=4, device_id=0)\n",
    "pipeline.build()\n",
    "output = pipeline.run()"
   ]
  },
  {
   "cell_type": "code",
   "execution_count": null,
   "id": "functional-postcard",
   "metadata": {
    "pycharm": {
     "name": "#%%\n"
    }
   },
   "outputs": [],
   "source": [
    "show_images(output[0].as_cpu())"
   ]
  },
  {
   "cell_type": "code",
   "execution_count": null,
   "id": "extraordinary-queen",
   "metadata": {
    "pycharm": {
     "name": "#%%\n"
    }
   },
   "outputs": [],
   "source": [
    "output = pipeline.run()\n",
    "show_images(output[0].as_cpu())"
   ]
  },
  {
   "cell_type": "code",
   "execution_count": null,
   "id": "radical-stopping",
   "metadata": {
    "pycharm": {
     "name": "#%%\n"
    }
   },
   "outputs": [],
   "source": [
    "output = pipeline.run()\n",
    "show_images(output[0].as_cpu())"
   ]
  }
 ],
 "metadata": {
  "kernelspec": {
   "display_name": "Python 3 (ipykernel)",
   "language": "python",
   "name": "python3"
  },
  "language_info": {
   "codemirror_mode": {
    "name": "ipython",
    "version": 3
   },
   "file_extension": ".py",
   "mimetype": "text/x-python",
   "name": "python",
   "nbconvert_exporter": "python",
   "pygments_lexer": "ipython3",
   "version": "3.8.10"
  }
 },
 "nbformat": 4,
 "nbformat_minor": 5
}