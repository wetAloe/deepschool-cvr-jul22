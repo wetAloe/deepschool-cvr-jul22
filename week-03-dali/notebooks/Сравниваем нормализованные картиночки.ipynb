{
 "cells": [
  {
   "cell_type": "markdown",
   "id": "silver-phoenix",
   "metadata": {
    "pycharm": {
     "name": "#%% md\n"
    }
   },
   "source": [
    "# Сравниваем нормализованные картинки\n",
    "\n",
    "Полный пайплайн"
   ]
  },
  {
   "cell_type": "code",
   "execution_count": null,
   "id": "occupied-satellite",
   "metadata": {
    "pycharm": {
     "name": "#%%\n"
    }
   },
   "outputs": [],
   "source": [
    "%load_ext autoreload\n",
    "%autoreload 2"
   ]
  },
  {
   "cell_type": "code",
   "execution_count": null,
   "id": "therapeutic-findings",
   "metadata": {
    "pycharm": {
     "name": "#%%\n"
    }
   },
   "outputs": [],
   "source": [
    "from IPython.core.interactiveshell import InteractiveShell\n",
    "InteractiveShell.ast_node_interactivity = 'all'\n",
    "\n",
    "import warnings\n",
    "warnings.simplefilter('ignore')\n",
    "\n",
    "import gc\n",
    "\n",
    "from os import path\n",
    "import sys\n",
    "sys.path.append(path.abspath('..'))"
   ]
  },
  {
   "cell_type": "code",
   "execution_count": null,
   "id": "japanese-chinese",
   "metadata": {
    "pycharm": {
     "name": "#%%\n"
    }
   },
   "outputs": [],
   "source": [
    "from nvidia.dali.plugin.pytorch import DALIGenericIterator\n",
    "import torch\n",
    "from torch.utils.data import DataLoader\n",
    "from PIL import Image\n",
    "import matplotlib.pyplot as plt\n",
    "from matplotlib.cm import ScalarMappable\n",
    "from matplotlib.colors import Normalize\n",
    "from tqdm import tqdm\n",
    "\n",
    "from src.dali import CustomPipeline\n",
    "from src.pytorch import TorchDataset"
   ]
  },
  {
   "cell_type": "code",
   "execution_count": null,
   "id": "declared-nicholas",
   "metadata": {
    "pycharm": {
     "name": "#%%\n"
    }
   },
   "outputs": [],
   "source": [
    "BATCH_SIZE = 60"
   ]
  },
  {
   "cell_type": "code",
   "execution_count": null,
   "id": "previous-terrace",
   "metadata": {
    "pycharm": {
     "name": "#%%\n"
    }
   },
   "outputs": [],
   "source": [
    "pipeline = CustomPipeline(batch_size=BATCH_SIZE, num_threads = 8, device_id = 0)\n",
    "dali_iterator = DALIGenericIterator(pipeline, ['image', 'labels'], size=68811-6)"
   ]
  },
  {
   "cell_type": "code",
   "execution_count": null,
   "id": "extended-system",
   "metadata": {
    "pycharm": {
     "name": "#%%\n"
    }
   },
   "outputs": [],
   "source": [
    "dataset = TorchDataset()\n",
    "dataloader = DataLoader(dataset, batch_size=BATCH_SIZE, num_workers=8, pin_memory=True)"
   ]
  },
  {
   "cell_type": "code",
   "execution_count": null,
   "id": "hindu-internet",
   "metadata": {
    "pycharm": {
     "name": "#%%\n"
    }
   },
   "outputs": [],
   "source": [
    "for dali_data in dali_iterator:\n",
    "    break"
   ]
  },
  {
   "cell_type": "code",
   "execution_count": null,
   "id": "statistical-memphis",
   "metadata": {
    "pycharm": {
     "name": "#%%\n"
    }
   },
   "outputs": [],
   "source": [
    "for torch_data in dataloader:\n",
    "    break"
   ]
  },
  {
   "cell_type": "code",
   "execution_count": null,
   "id": "rational-postage",
   "metadata": {
    "pycharm": {
     "name": "#%%\n"
    }
   },
   "outputs": [],
   "source": [
    "# Сравниваем размеры батчей\n",
    "print(f'Размер батча в dali:       {dali_data[0][\"image\"].cpu().numpy().shape}')\n",
    "print(f'Размер батча в torchvison: {torch_data[\"image\"].cpu().numpy().shape}')"
   ]
  },
  {
   "cell_type": "code",
   "execution_count": null,
   "id": "serious-reading",
   "metadata": {
    "pycharm": {
     "name": "#%%\n"
    }
   },
   "outputs": [],
   "source": [
    "# Посмотрим на разницу картинок\n",
    "torch.abs(dali_data[0]['image'].cpu() - torch_data['image']).max().item()"
   ]
  },
  {
   "cell_type": "code",
   "execution_count": null,
   "id": "scheduled-clear",
   "metadata": {
    "pycharm": {
     "name": "#%%\n"
    },
    "scrolled": true
   },
   "outputs": [],
   "source": [
    "f, (ax1, ax2) = plt.subplots(1, 2, figsize=(20, 10))\n",
    "\n",
    "_ = ax1.imshow(dali_data[0]['image'].cpu().numpy()[0].transpose((1, 2, 0)))\n",
    "_ = ax1.axis('off')\n",
    "\n",
    "_ = ax2.imshow(torch_data['image'].cpu().numpy()[0].transpose((1, 2, 0)))\n",
    "_ = ax2.axis('off')"
   ]
  },
  {
   "cell_type": "code",
   "execution_count": null,
   "id": "minor-arlington",
   "metadata": {
    "pycharm": {
     "name": "#%%\n"
    }
   },
   "outputs": [],
   "source": [
    "# Визуализируем разницу\n",
    "f, (ax1, ax2, ax3) = plt.subplots(1, 3, figsize=(20, 10))\n",
    "\n",
    "_ = ax1.imshow((dali_data[0]['image'].cpu() - torch_data['image']).numpy()[0][0])\n",
    "_ = ax1.axis('off')\n",
    "_ = f.colorbar(ScalarMappable(Normalize(-1, 1)), ax=ax1)\n",
    "\n",
    "_ = ax2.imshow((dali_data[0]['image'].cpu() - torch_data['image']).numpy()[0][1])\n",
    "_ = ax2.axis('off')\n",
    "_ = f.colorbar(ScalarMappable(Normalize(-1, 1)), ax=ax2)\n",
    "\n",
    "_ = ax3.imshow((dali_data[0]['image'].cpu() - torch_data['image']).numpy()[0][2])\n",
    "_ = ax3.axis('off')\n",
    "_ = f.colorbar(ScalarMappable(Normalize(-1, 1)), ax=ax3)"
   ]
  },
  {
   "cell_type": "code",
   "execution_count": null,
   "id": "environmental-carnival",
   "metadata": {
    "pycharm": {
     "name": "#%%\n"
    }
   },
   "outputs": [],
   "source": []
  }
 ],
 "metadata": {
  "kernelspec": {
   "display_name": "Python 3 (ipykernel)",
   "language": "python",
   "name": "python3"
  },
  "language_info": {
   "codemirror_mode": {
    "name": "ipython",
    "version": 3
   },
   "file_extension": ".py",
   "mimetype": "text/x-python",
   "name": "python",
   "nbconvert_exporter": "python",
   "pygments_lexer": "ipython3",
   "version": "3.8.10"
  }
 },
 "nbformat": 4,
 "nbformat_minor": 5
}