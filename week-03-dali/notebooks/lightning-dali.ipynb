{
 "cells": [
  {
   "cell_type": "code",
   "execution_count": null,
   "id": "automatic-coffee",
   "metadata": {
    "pycharm": {
     "name": "#%%\n"
    }
   },
   "outputs": [],
   "source": [
    "%load_ext autoreload\n",
    "%autoreload 2"
   ]
  },
  {
   "cell_type": "code",
   "execution_count": null,
   "id": "statutory-valuation",
   "metadata": {
    "pycharm": {
     "name": "#%%\n"
    }
   },
   "outputs": [],
   "source": [
    "from IPython.core.interactiveshell import InteractiveShell\n",
    "InteractiveShell.ast_node_interactivity = 'all'\n",
    "\n",
    "import warnings\n",
    "warnings.simplefilter('ignore')\n",
    "\n",
    "import gc\n",
    "\n",
    "from os import path\n",
    "import sys\n",
    "sys.path.append(path.abspath('..'))"
   ]
  },
  {
   "cell_type": "code",
   "execution_count": null,
   "id": "subject-parameter",
   "metadata": {
    "pycharm": {
     "name": "#%%\n"
    }
   },
   "outputs": [],
   "source": [
    "from pytorch_lightning.core.lightning import LightningModule\n",
    "from pytorch_lightning import Trainer\n",
    "from timm import create_model\n",
    "from torch.nn import functional as F\n",
    "from torch.optim import Adam\n",
    "from nvidia.dali.plugin.pytorch import DALIGenericIterator, LastBatchPolicy\n",
    "\n",
    "from src.dali import CustomPipeline"
   ]
  },
  {
   "cell_type": "code",
   "execution_count": null,
   "id": "italic-december",
   "metadata": {
    "pycharm": {
     "name": "#%%\n"
    }
   },
   "outputs": [],
   "source": [
    "class LitDALI(LightningModule):\n",
    "    def __init__(self):\n",
    "        super().__init__()\n",
    "        self.model = create_model(model_name='gernet_s', num_classes=5)\n",
    "    \n",
    "    def forward(self, x):\n",
    "        return self.model(x)\n",
    "    \n",
    "    def process_batch(self, batch):\n",
    "        return batch[0]['image'], batch[0]['label']\n",
    "    \n",
    "    def training_step(self, batch, batch_idx):\n",
    "        x, y = self.process_batch(batch)\n",
    "        logits = self(x)\n",
    "        loss = F.binary_cross_entropy_with_logits(logits, y)\n",
    "        return loss\n",
    "    \n",
    "    def configure_optimizers(self):\n",
    "        return Adam(self.parameters(), lr=1e-3)\n",
    "    \n",
    "    def prepare_data(self):\n",
    "        pipeline = CustomPipeline(\n",
    "            batch_size=60,\n",
    "            num_threads=4,\n",
    "            device_id=0,\n",
    "         )\n",
    "        self.train_loader = DALIGenericIterator(\n",
    "            pipeline,\n",
    "            ['image', 'label'],\n",
    "            size=68811-7,\n",
    "            auto_reset=True,\n",
    "            last_batch_policy=LastBatchPolicy.PARTIAL,\n",
    "        )\n",
    "        \n",
    "    def train_dataloader(self):\n",
    "        return self.train_loader"
   ]
  },
  {
   "cell_type": "code",
   "execution_count": null,
   "id": "synthetic-function",
   "metadata": {
    "pycharm": {
     "name": "#%%\n"
    }
   },
   "outputs": [],
   "source": [
    "model = LitDALI()"
   ]
  },
  {
   "cell_type": "code",
   "execution_count": null,
   "id": "described-courtesy",
   "metadata": {
    "pycharm": {
     "name": "#%%\n"
    }
   },
   "outputs": [],
   "source": [
    "trainer = Trainer(gpus=1, max_epochs=1)"
   ]
  },
  {
   "cell_type": "code",
   "execution_count": null,
   "id": "exciting-broadcasting",
   "metadata": {
    "pycharm": {
     "name": "#%%\n"
    }
   },
   "outputs": [],
   "source": [
    "%%time\n",
    "trainer.fit(model)"
   ]
  },
  {
   "cell_type": "code",
   "execution_count": null,
   "id": "combined-dodge",
   "metadata": {
    "pycharm": {
     "name": "#%%\n"
    }
   },
   "outputs": [],
   "source": [
    "# 2min 24s"
   ]
  }
 ],
 "metadata": {
  "kernelspec": {
   "display_name": "Python 3 (ipykernel)",
   "language": "python",
   "name": "python3"
  },
  "language_info": {
   "codemirror_mode": {
    "name": "ipython",
    "version": 3
   },
   "file_extension": ".py",
   "mimetype": "text/x-python",
   "name": "python",
   "nbconvert_exporter": "python",
   "pygments_lexer": "ipython3",
   "version": "3.8.10"
  }
 },
 "nbformat": 4,
 "nbformat_minor": 5
}