{
 "cells": [
  {
   "cell_type": "code",
   "execution_count": null,
   "id": "comparative-divorce",
   "metadata": {
    "pycharm": {
     "name": "#%%\n"
    }
   },
   "outputs": [],
   "source": [
    "%load_ext autoreload\n",
    "%autoreload 2"
   ]
  },
  {
   "cell_type": "code",
   "execution_count": null,
   "id": "collaborative-glucose",
   "metadata": {
    "pycharm": {
     "name": "#%%\n"
    }
   },
   "outputs": [],
   "source": [
    "from IPython.core.interactiveshell import InteractiveShell\n",
    "InteractiveShell.ast_node_interactivity = 'all'\n",
    "\n",
    "import warnings\n",
    "warnings.simplefilter('ignore')\n",
    "import gc\n",
    "\n",
    "from os import path\n",
    "import sys\n",
    "sys.path.append(path.abspath('..'))"
   ]
  },
  {
   "cell_type": "code",
   "execution_count": null,
   "id": "divine-induction",
   "metadata": {
    "pycharm": {
     "name": "#%%\n"
    }
   },
   "outputs": [],
   "source": [
    "import nvidia.dali.ops as ops\n",
    "from nvidia.dali.pipeline import Pipeline\n",
    "import nvidia.dali.types as types\n",
    "from nvidia.dali.plugin.pytorch import TorchPythonFunction, DALIGenericIterator, LastBatchPolicy\n",
    "\n",
    "\n",
    "import kornia.augmentation as augs\n",
    "import cupy as cp\n",
    "import torch\n",
    "from tqdm.notebook import tqdm\n",
    "\n",
    "from src.dali import ExternalInputIterator"
   ]
  },
  {
   "cell_type": "code",
   "execution_count": null,
   "id": "oriental-ownership",
   "metadata": {
    "pycharm": {
     "name": "#%%\n"
    }
   },
   "outputs": [],
   "source": [
    "import matplotlib.gridspec as gridspec\n",
    "import matplotlib.pyplot as plt\n",
    "\n",
    "def show_images(image_batch):\n",
    "    columns = 4\n",
    "    rows = (len(image_batch) + 1) // (columns)\n",
    "    fig = plt.figure(figsize = (32,(32 // columns) * rows))\n",
    "    gs = gridspec.GridSpec(rows, columns)\n",
    "    for j in range(rows * columns):\n",
    "        plt.subplot(gs[j])\n",
    "        plt.axis(\"off\")\n",
    "        plt.imshow(image_batch.at(j))"
   ]
  },
  {
   "cell_type": "code",
   "execution_count": null,
   "id": "capital-alias",
   "metadata": {
    "pycharm": {
     "name": "#%%\n"
    }
   },
   "outputs": [],
   "source": [
    "\n",
    "def add_number(image, number=20.0):\n",
    "    result = cp.copy(image)\n",
    "    result[:, :, 0] = result[:, :, 0] + number\n",
    "    \n",
    "    return result\n",
    "\n",
    "# NHWC -> NCHW\n",
    "def channel_shuffle(image):\n",
    "    image = image.permute(2, 0, 1).float()\n",
    "    image = augs.RandomChannelShuffle()(image)[0]\n",
    "    image = image.permute(1, 2, 0).type(torch.uint8)\n",
    "    return image\n",
    "\n",
    "def channel_shuffle_batch(images):\n",
    "    images = torch.stack(images).permute(0, 3, 1, 2).float()\n",
    "    images = augs.RandomChannelShuffle()(images)\n",
    "    images = images.permute(0, 2, 3, 1).type(torch.uint8)\n",
    "    return images"
   ]
  },
  {
   "cell_type": "code",
   "execution_count": null,
   "id": "2c1676b6",
   "metadata": {
    "pycharm": {
     "name": "#%%\n"
    }
   },
   "outputs": [],
   "source": [
    "# Brightness \n",
    "# BrightnessContrast \n",
    "# ColorTwist \n",
    "# Contrast \n",
    "# Erase \n",
    "# GaussianBlur \n",
    "# Hsv \n",
    "# Jitter \n",
    "# Rotate \n",
    "# Sphere \n",
    "# WarpAffine \n",
    "# Water"
   ]
  },
  {
   "cell_type": "code",
   "execution_count": null,
   "id": "alleged-antarctica",
   "metadata": {
    "pycharm": {
     "name": "#%%\n"
    },
    "scrolled": true
   },
   "outputs": [],
   "source": [
    "list(filter(lambda x: '_' not in x, dir(ops)))"
   ]
  },
  {
   "cell_type": "code",
   "execution_count": null,
   "id": "worthy-review",
   "metadata": {
    "pycharm": {
     "name": "#%%\n"
    }
   },
   "outputs": [],
   "source": [
    "class AugmentationsPipeline(Pipeline):\n",
    "    def __init__(self, batch_size, num_threads, device_id=0):\n",
    "        super().__init__(\n",
    "            batch_size=batch_size,\n",
    "            num_threads=num_threads,\n",
    "            device_id=device_id,\n",
    "            seed=0xDEAD,\n",
    "            # for custom functions\n",
    "            exec_async=False,\n",
    "            exec_pipelined=False,\n",
    "        )\n",
    "        self.input = ops.ExternalSource(\n",
    "            source=ExternalInputIterator(batch_size),\n",
    "            num_outputs=2,\n",
    "        )\n",
    "        self.decode = ops.ImageDecoder(device = 'mixed', output_type = types.RGB)\n",
    "        self.resize = ops.Resize(device='gpu', size=(224, 224), interp_type=types.INTERP_TRIANGULAR)\n",
    "        \n",
    "#         self.rotate = ops.Rotate(device='gpu')\n",
    "#         self.rotate_range = ops.Uniform(range=(-20., 20.))\n",
    "\n",
    "#         self.sphere = ops.Sphere(device='gpu')\n",
    "#         self.sphere_apply = ops.CoinFlip()\n",
    "        \n",
    "#         Adjusts hue, saturation and brightness of the image\n",
    "#         self.twist = ops.ColorTwist(device='gpu')\n",
    "#         self.range1 = ops.Uniform(range=[0.5, 2.])\n",
    "#         self.range2 = ops.Uniform(range=[-15, 15])\n",
    "\n",
    "#         self.add_number = ops.PythonFunction(\n",
    "#             function=add_number,\n",
    "#             num_outputs=1,\n",
    "#             device='gpu',\n",
    "#             output_layouts=types.NHWC,\n",
    "#         )\n",
    "#         self.random_number = ops.Uniform(values=list(range(0, 20)))\n",
    "\n",
    "        self.channel_shiffle = TorchPythonFunction(\n",
    "            function=channel_shuffle,\n",
    "            num_outputs=1,\n",
    "            device='gpu',\n",
    "            batch_processing=False,\n",
    "            output_layouts=types.NHWC,\n",
    "        )\n",
    "#         self.channel_shiffle_batch = TorchPythonFunction(\n",
    "#             function=channel_shuffle_batch,\n",
    "#             num_outputs=1,\n",
    "#             device='gpu',\n",
    "#             batch_processing=True,\n",
    "#             output_layouts=types.NHWC,\n",
    "#         )\n",
    "#         self.normalization = ops.CropMirrorNormalize(\n",
    "#             device=\"gpu\",\n",
    "#             dtype=types.FLOAT,\n",
    "#             output_layout=types.NCHW,\n",
    "#             mean=[0.485 * 255, 0.456 * 255, 0.406 * 255],\n",
    "#             std=[0.229 * 255, 0.224 * 255, 0.225 * 255],\n",
    "#         )\n",
    "    \n",
    "    \n",
    "    def define_graph(self):\n",
    "        jpegs, labels = self.input()\n",
    "        images = self.decode(jpegs)\n",
    "        images = self.resize(images)\n",
    "        \n",
    "#         angle = self.rotate_range()\n",
    "#         images = self.rotate(images, angle=angle, fill_value=0, keep_size=True)\n",
    "\n",
    "\n",
    "#         images = self.sphere(images, mask=self.sphere_apply())\n",
    "\n",
    "#         images = self.twist(\n",
    "#             images,\n",
    "#             saturation=self.range1(),\n",
    "#             contrast=self.range1(),\n",
    "#             brightness=self.range1(),\n",
    "#             hue=self.range2(),\n",
    "#         )\n",
    "\n",
    "#         number = self.random_number().gpu() # рандом не работает на gpu - тащим сами\n",
    "#         images = self.add_number(images, number)\n",
    "\n",
    "        images = self.channel_shiffle(images)\n",
    "#         images = self.channel_shiffle_batch(images)\n",
    "#         images = self.normalization(images)\n",
    "        \n",
    "        \n",
    "        return images, labels"
   ]
  },
  {
   "cell_type": "markdown",
   "id": "divided-still",
   "metadata": {
    "pycharm": {
     "name": "#%% md\n"
    }
   },
   "source": [
    "# Посмотрим картиночки"
   ]
  },
  {
   "cell_type": "code",
   "execution_count": null,
   "id": "buried-swift",
   "metadata": {
    "pycharm": {
     "name": "#%%\n"
    },
    "scrolled": true
   },
   "outputs": [],
   "source": [
    "pipeline = AugmentationsPipeline(batch_size=12, num_threads=1)\n",
    "pipeline.build()"
   ]
  },
  {
   "cell_type": "code",
   "execution_count": null,
   "id": "normal-gazette",
   "metadata": {
    "pycharm": {
     "name": "#%%\n"
    }
   },
   "outputs": [],
   "source": [
    "pipeline_output = pipeline.run()\n",
    "images, labels = pipeline_output"
   ]
  },
  {
   "cell_type": "code",
   "execution_count": null,
   "id": "three-simple",
   "metadata": {
    "pycharm": {
     "name": "#%%\n"
    },
    "scrolled": false
   },
   "outputs": [],
   "source": [
    "show_images(images.as_cpu())"
   ]
  },
  {
   "cell_type": "code",
   "execution_count": null,
   "id": "current-hazard",
   "metadata": {
    "pycharm": {
     "name": "#%%\n"
    },
    "scrolled": false
   },
   "outputs": [],
   "source": [
    "# оригинал\n",
    "show_images(images.as_cpu())"
   ]
  },
  {
   "cell_type": "markdown",
   "id": "accompanied-renewal",
   "metadata": {
    "pycharm": {
     "name": "#%% md\n"
    }
   },
   "source": [
    "# Сравним скорость"
   ]
  },
  {
   "cell_type": "code",
   "execution_count": null,
   "id": "fifth-workstation",
   "metadata": {
    "pycharm": {
     "name": "#%%\n"
    }
   },
   "outputs": [],
   "source": [
    "pipeline = AugmentationsPipeline(batch_size=60, num_threads=8)\n",
    "\n",
    "loader = DALIGenericIterator(\n",
    "            pipeline,\n",
    "            ['image', 'label'],\n",
    "            size=68811-7,\n",
    "            auto_reset=True,\n",
    "        )"
   ]
  },
  {
   "cell_type": "code",
   "execution_count": null,
   "id": "certain-engine",
   "metadata": {
    "pycharm": {
     "name": "#%%\n"
    }
   },
   "outputs": [],
   "source": [
    "for data in tqdm(loader):\n",
    "    _ = data[0]['image'].shape\n",
    "#     break"
   ]
  },
  {
   "cell_type": "code",
   "execution_count": null,
   "id": "played-glossary",
   "metadata": {
    "pycharm": {
     "name": "#%%\n"
    }
   },
   "outputs": [],
   "source": [
    "# с асинхронностью и прочим 00:23 \n",
    "# без асинхронности 00:34 - жить можно\n",
    "# без асинхронности + sphere 00:35 - ваще норм\n",
    "# без асинхронности + add number 00:42 - уже хуже\n",
    "# без асинхронности + channel_shuffle 01:06, больше минуты - очень плохо, но возможно всё равно лучше чем не dali\n",
    "# без асинхронности + channel_shuffle_batch 00:44 - прям топ"
   ]
  },
  {
   "cell_type": "markdown",
   "id": "partial-apparel",
   "metadata": {
    "pycharm": {
     "name": "#%% md\n"
    }
   },
   "source": [
    "# Сравним скорость обучения"
   ]
  },
  {
   "cell_type": "code",
   "execution_count": null,
   "id": "prime-little",
   "metadata": {
    "pycharm": {
     "name": "#%%\n"
    }
   },
   "outputs": [],
   "source": [
    "from pytorch_lightning.core.lightning import LightningModule\n",
    "from pytorch_lightning import Trainer\n",
    "\n",
    "from timm.models import gernet_s\n",
    "from torch.nn import functional as F\n",
    "from torch.optim import Adam\n",
    "from torch.utils.data import DataLoader"
   ]
  },
  {
   "cell_type": "code",
   "execution_count": null,
   "id": "amateur-particle",
   "metadata": {
    "pycharm": {
     "name": "#%%\n"
    }
   },
   "outputs": [],
   "source": [
    "class LitDALI(LightningModule):\n",
    "    def __init__(self):\n",
    "        super().__init__()\n",
    "        self.model = gernet_s(num_classes=5)\n",
    "    \n",
    "    def forward(self, x):\n",
    "        return self.model(x)\n",
    "    \n",
    "    def process_batch(self, batch):\n",
    "        return batch[0]['image'], batch[0]['label']\n",
    "    \n",
    "    def training_step(self, batch, batch_idx):\n",
    "        x, y = self.process_batch(batch)\n",
    "        logits = self(x)\n",
    "        loss = F.binary_cross_entropy_with_logits(logits, y)\n",
    "        return loss\n",
    "    \n",
    "    def configure_optimizers(self):\n",
    "        return Adam(self.parameters(), lr=1e-3)\n",
    "    \n",
    "    def prepare_data(self):\n",
    "        pipeline = AugmentationsPipeline(\n",
    "            batch_size=60,\n",
    "            num_threads = 8,\n",
    "            device_id = 0,\n",
    "         )\n",
    "        self.train_loader = DALIGenericIterator(\n",
    "            pipeline,\n",
    "            ['image', 'label'],\n",
    "            size=68811-6,\n",
    "            auto_reset=True,\n",
    "            last_batch_policy=LastBatchPolicy.PARTIAL,\n",
    "        )\n",
    "        \n",
    "    def train_dataloader(self):\n",
    "        return self.train_loader"
   ]
  },
  {
   "cell_type": "code",
   "execution_count": null,
   "id": "spoken-italic",
   "metadata": {
    "pycharm": {
     "name": "#%%\n"
    }
   },
   "outputs": [],
   "source": [
    "model = LitDALI()\n",
    "trainer = Trainer(gpus=1, max_epochs=1)"
   ]
  },
  {
   "cell_type": "code",
   "execution_count": null,
   "id": "foreign-horror",
   "metadata": {
    "pycharm": {
     "name": "#%%\n"
    }
   },
   "outputs": [],
   "source": [
    "%%time\n",
    "trainer.fit(model)"
   ]
  },
  {
   "cell_type": "code",
   "execution_count": null,
   "id": "bright-peninsula",
   "metadata": {
    "pycharm": {
     "name": "#%%\n"
    }
   },
   "outputs": [],
   "source": [
    "# с асинхронностью и прочим, без ауг - 02:27\n",
    "# без асинхронности, без ауг - 02:44\n",
    "# без асинхронности, sphere - 02:45\n",
    "# без асинхронности, add_number - 02:54\n",
    "# без асинхронности, channel_shuffle - 03:17\n",
    "# без асинхронности, channel_shuffle_batch - 02:56"
   ]
  }
 ],
 "metadata": {
  "kernelspec": {
   "display_name": "Python 3 (ipykernel)",
   "language": "python",
   "name": "python3"
  },
  "language_info": {
   "codemirror_mode": {
    "name": "ipython",
    "version": 3
   },
   "file_extension": ".py",
   "mimetype": "text/x-python",
   "name": "python",
   "nbconvert_exporter": "python",
   "pygments_lexer": "ipython3",
   "version": "3.8.10"
  }
 },
 "nbformat": 4,
 "nbformat_minor": 5
}