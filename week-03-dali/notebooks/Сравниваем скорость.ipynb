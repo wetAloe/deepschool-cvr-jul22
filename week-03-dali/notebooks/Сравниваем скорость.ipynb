{
 "cells": [
  {
   "cell_type": "code",
   "execution_count": null,
   "id": "prepared-matrix",
   "metadata": {
    "pycharm": {
     "name": "#%%\n"
    }
   },
   "outputs": [],
   "source": [
    "%load_ext autoreload\n",
    "%autoreload 2"
   ]
  },
  {
   "cell_type": "code",
   "execution_count": null,
   "id": "varying-coach",
   "metadata": {
    "pycharm": {
     "name": "#%%\n"
    }
   },
   "outputs": [],
   "source": [
    "from IPython.core.interactiveshell import InteractiveShell\n",
    "InteractiveShell.ast_node_interactivity = 'all'\n",
    "\n",
    "import warnings\n",
    "warnings.simplefilter('ignore')\n",
    "\n",
    "import gc\n",
    "\n",
    "from os import path\n",
    "import sys\n",
    "sys.path.append(path.abspath('..'))"
   ]
  },
  {
   "cell_type": "code",
   "execution_count": null,
   "id": "unnecessary-resort",
   "metadata": {
    "pycharm": {
     "name": "#%%\n"
    }
   },
   "outputs": [],
   "source": [
    "from nvidia.dali.plugin.pytorch import DALIGenericIterator, LastBatchPolicy\n",
    "from torch.utils.data import DataLoader\n",
    "from tqdm.notebook import tqdm\n",
    "\n",
    "\n",
    "from src.dali import CustomPipeline\n",
    "from src.pytorch import TorchDataset"
   ]
  },
  {
   "cell_type": "code",
   "execution_count": null,
   "id": "dedicated-celebration",
   "metadata": {
    "pycharm": {
     "name": "#%%\n"
    }
   },
   "outputs": [],
   "source": [
    "pipeline = CustomPipeline(\n",
    "            batch_size=60,\n",
    "            num_threads=4,\n",
    "            device_id=0,\n",
    "         )\n",
    "dali_iterator = DALIGenericIterator(\n",
    "    pipeline,\n",
    "    ['image', 'label'],\n",
    "    size=68811-7,\n",
    "    auto_reset=True,\n",
    "    last_batch_policy=LastBatchPolicy.PARTIAL\n",
    ")"
   ]
  },
  {
   "cell_type": "code",
   "execution_count": null,
   "id": "affecting-sodium",
   "metadata": {
    "pycharm": {
     "name": "#%%\n"
    }
   },
   "outputs": [],
   "source": [
    "dataset = TorchDataset()\n",
    "torch_loader = DataLoader(dataset, batch_size=60, num_workers=4)"
   ]
  },
  {
   "cell_type": "code",
   "execution_count": null,
   "id": "alpha-lender",
   "metadata": {
    "scrolled": true,
    "pycharm": {
     "name": "#%%\n"
    }
   },
   "outputs": [],
   "source": [
    "for dali_data in tqdm(dali_iterator):\n",
    "    shape = dali_data[0]['image'].shape"
   ]
  },
  {
   "cell_type": "code",
   "execution_count": null,
   "id": "bibliographic-lender",
   "metadata": {
    "pycharm": {
     "name": "#%%\n"
    }
   },
   "outputs": [],
   "source": [
    "# 00:36"
   ]
  },
  {
   "cell_type": "code",
   "execution_count": null,
   "id": "present-imaging",
   "metadata": {
    "scrolled": true,
    "pycharm": {
     "name": "#%%\n"
    }
   },
   "outputs": [],
   "source": [
    "for torch_data in tqdm(torch_loader):\n",
    "    shape = torch_data['image'].shape"
   ]
  },
  {
   "cell_type": "code",
   "execution_count": null,
   "id": "boolean-address",
   "metadata": {
    "pycharm": {
     "name": "#%%\n"
    }
   },
   "outputs": [],
   "source": [
    "# 03:01"
   ]
  },
  {
   "cell_type": "code",
   "execution_count": null,
   "id": "49419a80",
   "metadata": {
    "pycharm": {
     "name": "#%%\n"
    }
   },
   "outputs": [],
   "source": []
  }
 ],
 "metadata": {
  "kernelspec": {
   "display_name": "Python 3 (ipykernel)",
   "language": "python",
   "name": "python3"
  },
  "language_info": {
   "codemirror_mode": {
    "name": "ipython",
    "version": 3
   },
   "file_extension": ".py",
   "mimetype": "text/x-python",
   "name": "python",
   "nbconvert_exporter": "python",
   "pygments_lexer": "ipython3",
   "version": "3.8.13"
  }
 },
 "nbformat": 4,
 "nbformat_minor": 5
}