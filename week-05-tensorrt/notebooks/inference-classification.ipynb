{
 "cells": [
  {
   "cell_type": "code",
   "execution_count": null,
   "id": "proprietary-wholesale",
   "metadata": {},
   "outputs": [],
   "source": [
    "%load_ext autoreload\n",
    "%autoreload 2"
   ]
  },
  {
   "cell_type": "code",
   "execution_count": null,
   "id": "serious-chain",
   "metadata": {},
   "outputs": [],
   "source": [
    "from IPython.core.interactiveshell import InteractiveShell\n",
    "InteractiveShell.ast_node_interactivity = 'all'\n",
    "\n",
    "import warnings\n",
    "warnings.simplefilter('ignore')\n",
    "\n",
    "import gc\n",
    "\n",
    "from os import path\n",
    "import sys\n",
    "sys.path.append(path.abspath('..'))"
   ]
  },
  {
   "cell_type": "code",
   "execution_count": null,
   "id": "defined-account",
   "metadata": {},
   "outputs": [],
   "source": [
    "import numpy as np\n",
    "import torch\n",
    "import cv2\n",
    "from PIL import Image\n",
    "\n",
    "import pycuda.autoinit # ! Важно!\n",
    "\n",
    "from src.transforms import torch_preprocessing, trt_preprocessing\n",
    "import src.common as common\n",
    "from src.interface import TRTModel"
   ]
  },
  {
   "cell_type": "code",
   "execution_count": null,
   "id": "modular-objective",
   "metadata": {},
   "outputs": [],
   "source": [
    "def softmax(x):\n",
    "    e_x = np.exp(x - np.max(x))\n",
    "    return e_x / e_x.sum()"
   ]
  },
  {
   "cell_type": "code",
   "execution_count": null,
   "id": "received-search",
   "metadata": {},
   "outputs": [],
   "source": [
    "DEVICE = 'cuda:0'\n",
    "TORCH_FILE = '../models/gernet_l.pth'\n",
    "\n",
    "ONNX_FILE_STATIC = '../models/gernet_l_static.onnx'\n",
    "TRT_FILE_STATIC = '../models/gernet_l_static.engine'\n",
    "TRT_FILE_FP16_STATIC = '../models/gernet_l_fp16_static.engine'\n",
    "TRT_FILE_INT8_STATIC = '../models/gernet_l_int8_static.engine'\n",
    "\n",
    "ONNX_FILE_DYNAMIC = '../models/gernet_l_dynamic.onnx'\n",
    "TRT_FILE_DYNAMIC = '../models/gernet_l_dynamic.engine'\n",
    "TRT_FILE_FP16_DYNAMIC = '../models/gernet_l_fp16_dynamic.engine'\n",
    "TRT_FILE_INT8_DYNAMIC = '../models/gernet_l_int8_dynamic.engine'"
   ]
  },
  {
   "cell_type": "code",
   "execution_count": null,
   "id": "smoking-algorithm",
   "metadata": {},
   "outputs": [],
   "source": [
    "image = cv2.imread('../data/dog.jpg')[..., ::-1]\n",
    "print(image.shape)\n",
    "Image.fromarray(image)\n"
   ]
  },
  {
   "cell_type": "code",
   "execution_count": null,
   "id": "5a365f6f",
   "metadata": {},
   "outputs": [],
   "source": [
    "# Загрузим торчовую модель\n",
    "torch_model = torch.load(TORCH_FILE)\n",
    "_ = torch_model.eval()\n",
    "_ = torch_model.to(DEVICE)"
   ]
  },
  {
   "cell_type": "markdown",
   "id": "07945085",
   "metadata": {},
   "source": [
    "## Статический размер батча"
   ]
  },
  {
   "cell_type": "code",
   "execution_count": null,
   "id": "caa17c40",
   "metadata": {},
   "outputs": [],
   "source": [
    "BATCH_SIZE = 1"
   ]
  },
  {
   "cell_type": "markdown",
   "id": "static-booth",
   "metadata": {},
   "source": [
    "### Torch инференс"
   ]
  },
  {
   "cell_type": "code",
   "execution_count": null,
   "id": "extreme-smith",
   "metadata": {},
   "outputs": [],
   "source": [
    "torch_input_tensor = torch_preprocessing(image).to(DEVICE)\n",
    "torch_input_tensor = torch.cat([torch_input_tensor] * BATCH_SIZE)\n",
    "print(torch_input_tensor.shape)"
   ]
  },
  {
   "cell_type": "code",
   "execution_count": null,
   "id": "obvious-palace",
   "metadata": {},
   "outputs": [],
   "source": [
    "with torch.no_grad():\n",
    "    torch_output_tensor = torch_model(torch_input_tensor).cpu().detach().numpy()"
   ]
  },
  {
   "cell_type": "code",
   "execution_count": null,
   "id": "willing-september",
   "metadata": {},
   "outputs": [],
   "source": [
    "%%timeit\n",
    "with torch.no_grad():\n",
    "    torch_output_tensor = torch_model(torch_input_tensor).cpu().detach().numpy()"
   ]
  },
  {
   "cell_type": "markdown",
   "id": "refined-outline",
   "metadata": {},
   "source": [
    "### TensorRT инференс"
   ]
  },
  {
   "cell_type": "code",
   "execution_count": null,
   "id": "089fd118",
   "metadata": {},
   "outputs": [],
   "source": [
    "# Готовим тензора\n",
    "trt_input_tensor = trt_preprocessing(image)\n",
    "trt_input_tensor = np.concatenate([trt_input_tensor] * BATCH_SIZE)\n",
    "print(trt_input_tensor.shape)"
   ]
  },
  {
   "cell_type": "code",
   "execution_count": null,
   "id": "representative-flash",
   "metadata": {},
   "outputs": [],
   "source": [
    "# инференс на fp32\n",
    "trt_model = TRTModel(TRT_FILE_STATIC)\n",
    "trt_output_tensor = trt_model(trt_input_tensor)"
   ]
  },
  {
   "cell_type": "code",
   "execution_count": null,
   "id": "compressed-indonesia",
   "metadata": {
    "scrolled": true
   },
   "outputs": [],
   "source": [
    "%%timeit\n",
    "trt_output_tensor = trt_model(trt_input_tensor)"
   ]
  },
  {
   "cell_type": "code",
   "execution_count": null,
   "id": "def74fd8",
   "metadata": {},
   "outputs": [],
   "source": [
    "# инференс на fp16\n",
    "trt_model_fp16 = TRTModel(TRT_FILE_FP16_STATIC)\n",
    "trt_output_tensor_fp16 = trt_model_fp16(trt_input_tensor)"
   ]
  },
  {
   "cell_type": "code",
   "execution_count": null,
   "id": "6594d68f",
   "metadata": {},
   "outputs": [],
   "source": [
    "%%timeit\n",
    "trt_output_tensor_fp16 = trt_model_fp16(trt_input_tensor)"
   ]
  },
  {
   "cell_type": "code",
   "execution_count": null,
   "id": "f57ab241",
   "metadata": {},
   "outputs": [],
   "source": [
    "# инференс на int8\n",
    "trt_model_int8 = TRTModel(TRT_FILE_INT8_STATIC)\n",
    "trt_output_tensor_int8 = trt_model_int8(trt_input_tensor)"
   ]
  },
  {
   "cell_type": "code",
   "execution_count": null,
   "id": "greatest-solution",
   "metadata": {},
   "outputs": [],
   "source": [
    "%%timeit\n",
    "trt_output_tensor_int8 = trt_model_int8(trt_input_tensor)"
   ]
  },
  {
   "cell_type": "markdown",
   "id": "respiratory-dallas",
   "metadata": {},
   "source": [
    "### Сравнение"
   ]
  },
  {
   "cell_type": "code",
   "execution_count": null,
   "id": "reasonable-treasury",
   "metadata": {},
   "outputs": [],
   "source": [
    "# Сравнение логитов\n",
    "print(f'fp32: {list(np.abs(trt_output_tensor - torch_output_tensor).max(1))[0]}')\n",
    "print(f'fp16: {list(np.abs(trt_output_tensor_fp16 - torch_output_tensor).max(1))[0]}')\n",
    "print(f'int8: {list(np.abs(trt_output_tensor_int8 - torch_output_tensor).max(1))[0]}')"
   ]
  },
  {
   "cell_type": "code",
   "execution_count": null,
   "id": "atmospheric-birth",
   "metadata": {},
   "outputs": [],
   "source": [
    "# Сравнение после активации\n",
    "print(f'fp32: {list(np.abs(softmax(trt_output_tensor) - softmax(torch_output_tensor)).max(1))[0]}')\n",
    "print(f'fp16: {list(np.abs(softmax(trt_output_tensor_fp16) - softmax(torch_output_tensor)).max(1))[0]}')\n",
    "print(f'int8: {list(np.abs(softmax(trt_output_tensor_int8) - softmax(torch_output_tensor)).max(1))[0]}')"
   ]
  },
  {
   "cell_type": "code",
   "execution_count": null,
   "id": "efefc6a2",
   "metadata": {},
   "outputs": [],
   "source": [
    "# Финальный предикт\n",
    "print(f'fp32: {list(softmax(trt_output_tensor).argmax(1))[0]}')\n",
    "print(f'fp16: {list(softmax(trt_output_tensor).argmax(1))[0]}')\n",
    "print(f'int8: {list(softmax(trt_output_tensor).argmax(1))[0]}')"
   ]
  },
  {
   "cell_type": "markdown",
   "id": "9649426a",
   "metadata": {},
   "source": [
    "## Динамический размер батча"
   ]
  },
  {
   "cell_type": "code",
   "execution_count": null,
   "id": "9312ab9f",
   "metadata": {},
   "outputs": [],
   "source": [
    "BATCH_SIZE = 5"
   ]
  },
  {
   "cell_type": "markdown",
   "id": "8e3e7543",
   "metadata": {},
   "source": [
    "### Торч инференс"
   ]
  },
  {
   "cell_type": "code",
   "execution_count": null,
   "id": "0479bc14",
   "metadata": {},
   "outputs": [],
   "source": [
    "torch_input_tensor = torch_preprocessing(image).to(DEVICE)\n",
    "torch_input_tensor = torch.cat([torch_input_tensor] * BATCH_SIZE)\n",
    "print(torch_input_tensor.shape)"
   ]
  },
  {
   "cell_type": "code",
   "execution_count": null,
   "id": "76f94d22",
   "metadata": {},
   "outputs": [],
   "source": [
    "with torch.no_grad():\n",
    "    torch_output_tensor = torch_model(torch_input_tensor).cpu().detach().numpy()"
   ]
  },
  {
   "cell_type": "code",
   "execution_count": null,
   "id": "b713cf27",
   "metadata": {},
   "outputs": [],
   "source": [
    "%%timeit\n",
    "with torch.no_grad():\n",
    "    torch_output_tensor = torch_model(torch_input_tensor).cpu().detach().numpy()"
   ]
  },
  {
   "cell_type": "markdown",
   "id": "98c9caa4",
   "metadata": {},
   "source": [
    "### TensorRT инференс"
   ]
  },
  {
   "cell_type": "code",
   "execution_count": null,
   "id": "10dd8082",
   "metadata": {},
   "outputs": [],
   "source": [
    "# Готовим тензора\n",
    "trt_input_tensor = trt_preprocessing(image)\n",
    "trt_input_tensor = np.concatenate([trt_input_tensor] * BATCH_SIZE)\n",
    "print(trt_input_tensor.shape)"
   ]
  },
  {
   "cell_type": "code",
   "execution_count": null,
   "id": "74abb48c",
   "metadata": {},
   "outputs": [],
   "source": [
    "# инференс на fp32\n",
    "trt_model = TRTModel(TRT_FILE_DYNAMIC)\n",
    "trt_output_tensor = trt_model(trt_input_tensor)"
   ]
  },
  {
   "cell_type": "code",
   "execution_count": null,
   "id": "e79dee02",
   "metadata": {},
   "outputs": [],
   "source": [
    "%%timeit\n",
    "trt_output_tensor = trt_model(trt_input_tensor)"
   ]
  },
  {
   "cell_type": "code",
   "execution_count": null,
   "id": "dad289a4",
   "metadata": {},
   "outputs": [],
   "source": [
    "# инференс на fp16\n",
    "trt_model_fp16 = TRTModel(TRT_FILE_FP16_DYNAMIC)\n",
    "trt_output_tensor_fp16 = trt_model_fp16(trt_input_tensor)"
   ]
  },
  {
   "cell_type": "code",
   "execution_count": null,
   "id": "2ebdf7ca",
   "metadata": {},
   "outputs": [],
   "source": [
    "%%timeit\n",
    "trt_output_tensor_fp16 = trt_model_fp16(trt_input_tensor)"
   ]
  },
  {
   "cell_type": "code",
   "execution_count": null,
   "id": "61bccf22",
   "metadata": {},
   "outputs": [],
   "source": [
    "# инференс на int8\n",
    "trt_model_int8 = TRTModel(TRT_FILE_INT8_DYNAMIC)\n",
    "trt_output_tensor_int8 = trt_model_int8(trt_input_tensor)"
   ]
  },
  {
   "cell_type": "code",
   "execution_count": null,
   "id": "be6ee70d",
   "metadata": {},
   "outputs": [],
   "source": [
    "%%timeit\n",
    "trt_output_tensor_int8 = trt_model_int8(trt_input_tensor)"
   ]
  },
  {
   "cell_type": "markdown",
   "id": "516b3873",
   "metadata": {},
   "source": [
    "### Сравнение"
   ]
  },
  {
   "cell_type": "code",
   "execution_count": null,
   "id": "3de9700c",
   "metadata": {},
   "outputs": [],
   "source": [
    "# Сравнение логитов\n",
    "print(f'fp32: {list(np.abs(trt_output_tensor - torch_output_tensor).max(1))}')\n",
    "print(f'fp16: {list(np.abs(trt_output_tensor_fp16 - torch_output_tensor).max(1))}')\n",
    "print(f'int8: {list(np.abs(trt_output_tensor_int8 - torch_output_tensor).max(1))}')"
   ]
  },
  {
   "cell_type": "code",
   "execution_count": null,
   "id": "83c837e5",
   "metadata": {},
   "outputs": [],
   "source": [
    "# Сравнение после активации\n",
    "print(f'fp32: {list(np.abs(softmax(trt_output_tensor) - softmax(torch_output_tensor)).max(1))}')\n",
    "print(f'fp16: {list(np.abs(softmax(trt_output_tensor_fp16) - softmax(torch_output_tensor)).max(1))}')\n",
    "print(f'int8: {list(np.abs(softmax(trt_output_tensor_int8) - softmax(torch_output_tensor)).max(1))}')"
   ]
  },
  {
   "cell_type": "code",
   "execution_count": null,
   "id": "180d8e39",
   "metadata": {},
   "outputs": [],
   "source": [
    "# Финальный предикт\n",
    "print(f'fp32: {list(softmax(trt_output_tensor).argmax(1))}')\n",
    "print(f'fp16: {list(softmax(trt_output_tensor).argmax(1))}')\n",
    "print(f'int8: {list(softmax(trt_output_tensor).argmax(1))}')"
   ]
  },
  {
   "cell_type": "markdown",
   "id": "49354fc1",
   "metadata": {},
   "source": [
    "## Ура, работает!"
   ]
  }
 ],
 "metadata": {
  "kernelspec": {
   "display_name": "Python 3 (ipykernel)",
   "language": "python",
   "name": "python3"
  },
  "language_info": {
   "codemirror_mode": {
    "name": "ipython",
    "version": 3
   },
   "file_extension": ".py",
   "mimetype": "text/x-python",
   "name": "python",
   "nbconvert_exporter": "python",
   "pygments_lexer": "ipython3",
   "version": "3.8.13"
  }
 },
 "nbformat": 4,
 "nbformat_minor": 5
}
