{
 "cells": [
  {
   "cell_type": "code",
   "execution_count": null,
   "id": "chief-kruger",
   "metadata": {},
   "outputs": [],
   "source": [
    "%load_ext autoreload\n",
    "%autoreload 2"
   ]
  },
  {
   "cell_type": "code",
   "execution_count": null,
   "id": "monetary-favor",
   "metadata": {},
   "outputs": [],
   "source": [
    "from IPython.core.interactiveshell import InteractiveShell\n",
    "InteractiveShell.ast_node_interactivity = 'all'\n",
    "\n",
    "import warnings\n",
    "warnings.simplefilter('ignore')\n",
    "\n",
    "import gc\n",
    "\n",
    "from os import path\n",
    "import sys\n",
    "sys.path.append(path.abspath('..'))"
   ]
  },
  {
   "cell_type": "code",
   "execution_count": null,
   "id": "empty-supplement",
   "metadata": {},
   "outputs": [],
   "source": [
    "import numpy as np\n",
    "import onnx\n",
    "import torch\n",
    "import cv2\n",
    "from PIL import Image\n",
    "import tensorrt as trt\n",
    "import matplotlib.pyplot as plt\n",
    "from timm import create_model\n",
    "\n",
    "import pycuda.autoinit\n",
    "\n",
    "from src.transforms import torch_preprocessing, trt_preprocessing\n",
    "import src.common as common"
   ]
  },
  {
   "cell_type": "code",
   "execution_count": null,
   "id": "metropolitan-amateur",
   "metadata": {},
   "outputs": [],
   "source": [
    "def softmax(x):\n",
    "    e_x = np.exp(x - np.max(x))\n",
    "    return e_x / e_x.sum()"
   ]
  },
  {
   "cell_type": "code",
   "execution_count": null,
   "id": "legendary-morgan",
   "metadata": {},
   "outputs": [],
   "source": [
    "DEVICE = 'cuda:0'\n",
    "TORCH_FILE = '../models/gernet_l.pth'\n",
    "\n",
    "ONNX_FILE_STATIC = '../models/gernet_l_static.onnx'\n",
    "TRT_FILE_STATIC = '../models/gernet_l_static.engine'\n",
    "TRT_FILE_FP16_STATIC = '../models/gernet_l_fp16_static.engine'\n",
    "TRT_FILE_INT8_STATIC = '../models/gernet_l_int8_static.engine'\n",
    "\n",
    "ONNX_FILE_DYNAMIC = '../models/gernet_l_dynamic.onnx'\n",
    "TRT_FILE_DYNAMIC = '../models/gernet_l_dynamic.engine'\n",
    "TRT_FILE_FP16_DYNAMIC = '../models/gernet_l_fp16_dynamic.engine'\n",
    "TRT_FILE_INT8_DYNAMIC = '../models/gernet_l_int8_dynamic.engine'"
   ]
  },
  {
   "cell_type": "code",
   "execution_count": null,
   "id": "introductory-semester",
   "metadata": {},
   "outputs": [],
   "source": [
    "model = create_model('gernet_l', pretrained=True)\n",
    "_ = model.to(DEVICE)\n",
    "_ = model.eval()"
   ]
  },
  {
   "cell_type": "code",
   "execution_count": null,
   "id": "floral-opera",
   "metadata": {},
   "outputs": [],
   "source": [
    "image = cv2.imread('../data/dog.jpg')[..., ::-1]\n",
    "print(image.shape)\n",
    "Image.fromarray(image)"
   ]
  },
  {
   "cell_type": "code",
   "execution_count": null,
   "id": "comfortable-stage",
   "metadata": {},
   "outputs": [],
   "source": [
    "torch_input_tensor = torch_preprocessing(image).to(DEVICE)"
   ]
  },
  {
   "cell_type": "code",
   "execution_count": null,
   "id": "closed-alias",
   "metadata": {},
   "outputs": [],
   "source": [
    "with torch.no_grad():\n",
    "    torch_output_tensor = model(torch_input_tensor).cpu().detach().numpy()[0]\n",
    "print(softmax(torch_output_tensor).argmax())"
   ]
  },
  {
   "cell_type": "code",
   "execution_count": null,
   "id": "reflected-fault",
   "metadata": {},
   "outputs": [],
   "source": [
    "# сохраняем торчовый чекпоинт\n",
    "torch.save(model, TORCH_FILE)"
   ]
  },
  {
   "cell_type": "markdown",
   "id": "ae500724",
   "metadata": {},
   "source": [
    "## Статический размер батча"
   ]
  },
  {
   "cell_type": "markdown",
   "id": "aa474fc3",
   "metadata": {},
   "source": [
    "### Torch -> ONNX"
   ]
  },
  {
   "cell_type": "code",
   "execution_count": null,
   "id": "c95c8656",
   "metadata": {
    "scrolled": true
   },
   "outputs": [],
   "source": [
    "# сохраняем статичный onnx файл\n",
    "dummy_input = torch.rand(1, 3, 224, 224, device=DEVICE)\n",
    "torch.onnx.export(\n",
    "    model,\n",
    "    dummy_input,\n",
    "    ONNX_FILE_STATIC,\n",
    "    verbose=True,\n",
    "    input_names=['input'],\n",
    "    output_names=['output'],\n",
    ")"
   ]
  },
  {
   "cell_type": "markdown",
   "id": "cec20d39",
   "metadata": {},
   "source": [
    "### Check ONNX"
   ]
  },
  {
   "cell_type": "code",
   "execution_count": null,
   "id": "f98ef11c",
   "metadata": {
    "scrolled": true
   },
   "outputs": [],
   "source": [
    "onnx_model = onnx.load(ONNX_FILE_STATIC)\n",
    "onnx.checker.check_model(onnx_model)\n",
    "print(onnx.helper.printable_graph(onnx_model.graph))"
   ]
  },
  {
   "cell_type": "markdown",
   "id": "9b542b7a",
   "metadata": {},
   "source": [
    "### ONNX -> TensorRT"
   ]
  },
  {
   "cell_type": "code",
   "execution_count": null,
   "id": "75baa5c6",
   "metadata": {},
   "outputs": [],
   "source": [
    "# fp32\n",
    "engine = common.build_engine(\n",
    "    ONNX_FILE_STATIC,\n",
    "    TRT_FILE_STATIC,\n",
    ")"
   ]
  },
  {
   "cell_type": "code",
   "execution_count": null,
   "id": "cb5d86bb",
   "metadata": {},
   "outputs": [],
   "source": [
    "# fp16\n",
    "engine = common.build_engine(\n",
    "    ONNX_FILE_STATIC,\n",
    "    TRT_FILE_FP16_STATIC,\n",
    "    fp16=True,\n",
    ")"
   ]
  },
  {
   "cell_type": "code",
   "execution_count": null,
   "id": "627a613a",
   "metadata": {},
   "outputs": [],
   "source": [
    "# Грузим и готовим изображение для калибровки\n",
    "image = cv2.imread('../data/cat.jpeg')[..., ::-1]\n",
    "trt_input_tensor = trt_preprocessing(image)\n",
    "print(image.shape)\n",
    "Image.fromarray(image)"
   ]
  },
  {
   "cell_type": "code",
   "execution_count": null,
   "id": "0426f944",
   "metadata": {},
   "outputs": [],
   "source": [
    "# инициализируем калибратор\n",
    "calibrator = common.EntropyCalibrator(trt_input_tensor, '../models/calibrator')\n",
    "\n",
    "# int8\n",
    "engine = common.build_engine(\n",
    "    ONNX_FILE_STATIC,\n",
    "    TRT_FILE_INT8_STATIC,\n",
    "    int8=True,\n",
    "    int8_calibrator=calibrator,\n",
    ")"
   ]
  },
  {
   "cell_type": "markdown",
   "id": "insured-basement",
   "metadata": {},
   "source": [
    "## Динамический размер батча"
   ]
  },
  {
   "cell_type": "markdown",
   "id": "1c606941",
   "metadata": {},
   "source": [
    "### Torch -> ONNX"
   ]
  },
  {
   "cell_type": "code",
   "execution_count": null,
   "id": "front-donna",
   "metadata": {},
   "outputs": [],
   "source": [
    "# сохраняем onnx файл\n",
    "dummy_input = torch.rand(1, 3, 224, 224, device=DEVICE)\n",
    "torch.onnx.export(\n",
    "    model,\n",
    "    dummy_input,\n",
    "    ONNX_FILE_DYNAMIC,\n",
    "    verbose=True,\n",
    "    input_names=['input'],\n",
    "    output_names=['output'],\n",
    "    dynamic_axes = {'input': [0], 'output': [0]}, # динамический батч\n",
    ")"
   ]
  },
  {
   "cell_type": "markdown",
   "id": "intelligent-specification",
   "metadata": {},
   "source": [
    "### Check ONNX"
   ]
  },
  {
   "cell_type": "code",
   "execution_count": null,
   "id": "2a82e5e9",
   "metadata": {},
   "outputs": [],
   "source": [
    "onnx_model = onnx.load(ONNX_FILE_DYNAMIC)\n",
    "onnx.checker.check_model(onnx_model)\n",
    "print(onnx.helper.printable_graph(onnx_model.graph))"
   ]
  },
  {
   "cell_type": "markdown",
   "id": "needed-divide",
   "metadata": {},
   "source": [
    "### ONNX -> TRT"
   ]
  },
  {
   "cell_type": "code",
   "execution_count": null,
   "id": "bigger-oregon",
   "metadata": {
    "scrolled": true
   },
   "outputs": [],
   "source": [
    "# fp32\n",
    "engine = common.build_engine(\n",
    "    ONNX_FILE_DYNAMIC,\n",
    "    TRT_FILE_DYNAMIC,\n",
    "    max_batch_size=5,\n",
    "    min_shape=(1, 3, 224, 224),\n",
    "    opt_shape=(5, 3, 224, 224),\n",
    "    max_shape=(5, 3, 224, 224),\n",
    ")"
   ]
  },
  {
   "cell_type": "code",
   "execution_count": null,
   "id": "uniform-frequency",
   "metadata": {},
   "outputs": [],
   "source": [
    "# fp16\n",
    "engine = common.build_engine(\n",
    "    ONNX_FILE_DYNAMIC,\n",
    "    TRT_FILE_FP16_DYNAMIC,\n",
    "    max_batch_size=5,\n",
    "    min_shape=(1, 3, 224, 224),\n",
    "    opt_shape=(5, 3, 224, 224),\n",
    "    max_shape=(5, 3, 224, 224),\n",
    "    fp16=True,\n",
    ")"
   ]
  },
  {
   "cell_type": "code",
   "execution_count": null,
   "id": "hybrid-riding",
   "metadata": {},
   "outputs": [],
   "source": [
    "# котейка для калибровки\n",
    "image = cv2.imread('../data/cat.jpeg')[..., ::-1]\n",
    "trt_input_tensor = trt_preprocessing(image)\n",
    "print(image.shape)\n",
    "Image.fromarray(image)"
   ]
  },
  {
   "cell_type": "code",
   "execution_count": null,
   "id": "sharing-praise",
   "metadata": {
    "scrolled": true
   },
   "outputs": [],
   "source": [
    "calibrator = common.EntropyCalibrator(trt_input_tensor, '../models/calibrator')\n",
    "\n",
    "engine = common.build_engine(\n",
    "    ONNX_FILE_DYNAMIC,\n",
    "    TRT_FILE_INT8_DYNAMIC,\n",
    "    int8=True,\n",
    "    int8_calibrator=calibrator,\n",
    "    max_batch_size=5,\n",
    "    min_shape=(1, 3, 224, 224),\n",
    "    opt_shape=(5, 3, 224, 224),\n",
    "    max_shape=(5, 3, 224, 224),\n",
    ")"
   ]
  },
  {
   "cell_type": "code",
   "execution_count": null,
   "id": "worst-ballot",
   "metadata": {},
   "outputs": [],
   "source": []
  }
 ],
 "metadata": {
  "kernelspec": {
   "display_name": "Python 3 (ipykernel)",
   "language": "python",
   "name": "python3"
  },
  "language_info": {
   "codemirror_mode": {
    "name": "ipython",
    "version": 3
   },
   "file_extension": ".py",
   "mimetype": "text/x-python",
   "name": "python",
   "nbconvert_exporter": "python",
   "pygments_lexer": "ipython3",
   "version": "3.8.13"
  }
 },
 "nbformat": 4,
 "nbformat_minor": 5
}
