{
 "cells": [
  {
   "cell_type": "code",
   "execution_count": null,
   "id": "chief-kruger",
   "metadata": {},
   "outputs": [],
   "source": [
    "%load_ext autoreload\n",
    "%autoreload 2"
   ]
  },
  {
   "cell_type": "code",
   "execution_count": null,
   "id": "monetary-favor",
   "metadata": {},
   "outputs": [],
   "source": [
    "from IPython.core.interactiveshell import InteractiveShell\n",
    "InteractiveShell.ast_node_interactivity = 'all'\n",
    "\n",
    "import warnings\n",
    "warnings.simplefilter('ignore')\n",
    "\n",
    "import gc\n",
    "\n",
    "from os import path\n",
    "import sys\n",
    "sys.path.append(path.abspath('..'))"
   ]
  },
  {
   "cell_type": "code",
   "execution_count": null,
   "id": "empty-supplement",
   "metadata": {
    "scrolled": true
   },
   "outputs": [],
   "source": [
    "import numpy as np\n",
    "import onnx\n",
    "from onnxsim import simplify\n",
    "import torch\n",
    "import cv2\n",
    "from PIL import Image\n",
    "import tensorrt as trt\n",
    "import segmentation_models_pytorch as smp\n",
    "import matplotlib.pyplot as plt\n",
    "\n",
    "import pycuda.autoinit\n",
    "\n",
    "from src.transforms import torch_preprocessing\n",
    "import src.common as common"
   ]
  },
  {
   "cell_type": "code",
   "execution_count": null,
   "id": "metropolitan-amateur",
   "metadata": {},
   "outputs": [],
   "source": [
    "def sigmoid(x):\n",
    "    return 1 / (1 + np.exp(-x))"
   ]
  },
  {
   "cell_type": "code",
   "execution_count": null,
   "id": "legendary-morgan",
   "metadata": {},
   "outputs": [],
   "source": [
    "DEVICE = 'cuda:0'\n",
    "TORCH_FILE = '../models/resnet34.pth'\n",
    "ONNX_FILE = '../models/resnet34.onnx'\n",
    "TRT_FILE ='../models/resnet34.engine'\n",
    "TRT_FILE_FP16 ='../models/resnet34_fp16.engine'"
   ]
  },
  {
   "cell_type": "code",
   "execution_count": null,
   "id": "introductory-semester",
   "metadata": {},
   "outputs": [],
   "source": [
    "model = smp.Unet(\n",
    "    encoder_name='resnet34',\n",
    "    encoder_weights='imagenet',\n",
    ")\n",
    "_ = model.to(DEVICE)\n",
    "_ = model.eval()"
   ]
  },
  {
   "cell_type": "code",
   "execution_count": null,
   "id": "floral-opera",
   "metadata": {},
   "outputs": [],
   "source": [
    "image = cv2.imread('../data/dog.jpg')[..., ::-1]\n",
    "print(image.shape)\n",
    "Image.fromarray(image)"
   ]
  },
  {
   "cell_type": "code",
   "execution_count": null,
   "id": "comfortable-stage",
   "metadata": {},
   "outputs": [],
   "source": [
    "torch_input_tensor = torch_preprocessing(image).to(DEVICE)"
   ]
  },
  {
   "cell_type": "code",
   "execution_count": null,
   "id": "closed-alias",
   "metadata": {},
   "outputs": [],
   "source": [
    "with torch.no_grad():\n",
    "    torch_output_tensor = model(torch_input_tensor).cpu().detach().numpy()[0]"
   ]
  },
  {
   "cell_type": "code",
   "execution_count": null,
   "id": "important-protein",
   "metadata": {},
   "outputs": [],
   "source": [
    "print(torch_output_tensor.shape)\n",
    "_ = plt.imshow(sigmoid(torch_output_tensor)[0])\n",
    "_ = plt.axis('off')"
   ]
  },
  {
   "cell_type": "code",
   "execution_count": null,
   "id": "reflected-fault",
   "metadata": {},
   "outputs": [],
   "source": [
    "# сохраняем торчовый чекпоинт\n",
    "torch.save(model, TORCH_FILE)"
   ]
  },
  {
   "cell_type": "markdown",
   "id": "insured-basement",
   "metadata": {},
   "source": [
    "## Torch -> ONNX"
   ]
  },
  {
   "cell_type": "code",
   "execution_count": null,
   "id": "front-donna",
   "metadata": {},
   "outputs": [],
   "source": [
    "dummy_input = torch.rand(1, 3, 224, 224, device=DEVICE)\n",
    "torch.onnx.export(\n",
    "    model,\n",
    "    dummy_input,\n",
    "    ONNX_FILE,\n",
    "    verbose=True,\n",
    "    input_names=['input'],\n",
    "    output_names=['output'],\n",
    ")"
   ]
  },
  {
   "cell_type": "markdown",
   "id": "intelligent-specification",
   "metadata": {},
   "source": [
    "## Check ONNX"
   ]
  },
  {
   "cell_type": "code",
   "execution_count": null,
   "id": "devoted-pattern",
   "metadata": {},
   "outputs": [],
   "source": [
    "onnx_model = onnx.load(ONNX_FILE)\n",
    "onnx.checker.check_model(onnx_model)\n",
    "print(onnx.helper.printable_graph(onnx_model.graph))"
   ]
  },
  {
   "cell_type": "code",
   "execution_count": null,
   "id": "32a95d1c",
   "metadata": {},
   "outputs": [],
   "source": [
    "onnx_model_simp, check = simplify(onnx_model)\n",
    "print(check)\n",
    "onnx.save(onnx_model_simp, ONNX_FILE)"
   ]
  },
  {
   "cell_type": "markdown",
   "id": "needed-divide",
   "metadata": {},
   "source": [
    "## ONNX -> TRT"
   ]
  },
  {
   "cell_type": "code",
   "execution_count": null,
   "id": "bigger-oregon",
   "metadata": {
    "scrolled": true
   },
   "outputs": [],
   "source": [
    "# fp32\n",
    "engine = common.build_engine(\n",
    "    ONNX_FILE,\n",
    "    TRT_FILE,\n",
    ")"
   ]
  },
  {
   "cell_type": "code",
   "execution_count": null,
   "id": "nearby-kingdom",
   "metadata": {},
   "outputs": [],
   "source": [
    "# fp16\n",
    "engine = common.build_engine(\n",
    "    ONNX_FILE,\n",
    "    TRT_FILE_FP16,\n",
    "    fp16=True,\n",
    ")"
   ]
  },
  {
   "cell_type": "code",
   "execution_count": null,
   "id": "ffdafb89",
   "metadata": {},
   "outputs": [],
   "source": []
  }
 ],
 "metadata": {
  "kernelspec": {
   "display_name": "Python 3 (ipykernel)",
   "language": "python",
   "name": "python3"
  },
  "language_info": {
   "codemirror_mode": {
    "name": "ipython",
    "version": 3
   },
   "file_extension": ".py",
   "mimetype": "text/x-python",
   "name": "python",
   "nbconvert_exporter": "python",
   "pygments_lexer": "ipython3",
   "version": "3.8.13"
  }
 },
 "nbformat": 4,
 "nbformat_minor": 5
}
