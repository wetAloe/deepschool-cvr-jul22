{
 "cells": [
  {
   "cell_type": "code",
   "execution_count": null,
   "id": "proprietary-wholesale",
   "metadata": {},
   "outputs": [],
   "source": [
    "%load_ext autoreload\n",
    "%autoreload 2"
   ]
  },
  {
   "cell_type": "code",
   "execution_count": null,
   "id": "serious-chain",
   "metadata": {},
   "outputs": [],
   "source": [
    "from IPython.core.interactiveshell import InteractiveShell\n",
    "InteractiveShell.ast_node_interactivity = 'all'\n",
    "\n",
    "import warnings\n",
    "warnings.simplefilter('ignore')\n",
    "\n",
    "import gc\n",
    "\n",
    "from os import path\n",
    "import sys\n",
    "sys.path.append(path.abspath('..'))"
   ]
  },
  {
   "cell_type": "code",
   "execution_count": null,
   "id": "defined-account",
   "metadata": {},
   "outputs": [],
   "source": [
    "import numpy as np\n",
    "import torch\n",
    "import cv2\n",
    "from PIL import Image\n",
    "\n",
    "import pycuda.autoinit\n",
    "\n",
    "from src.transforms import torch_preprocessing, trt_preprocessing\n",
    "import src.common as common\n",
    "from src.interface import TRTModel"
   ]
  },
  {
   "cell_type": "code",
   "execution_count": null,
   "id": "modular-objective",
   "metadata": {},
   "outputs": [],
   "source": [
    "def sigmoid(x):\n",
    "    return 1 / (1 + np.exp(-x))"
   ]
  },
  {
   "cell_type": "code",
   "execution_count": null,
   "id": "received-search",
   "metadata": {},
   "outputs": [],
   "source": [
    "DEVICE = 'cuda:0'\n",
    "BATCH_SIZE = 1\n",
    "\n",
    "TORCH_FILE = '../models/resnet34.pth'\n",
    "TRT_FILE ='../models/resnet34.engine'\n",
    "TRT_FILE_FP16 ='../models/resnet34_fp16.engine'"
   ]
  },
  {
   "cell_type": "code",
   "execution_count": null,
   "id": "smoking-algorithm",
   "metadata": {},
   "outputs": [],
   "source": [
    "image = cv2.imread('../data/dog.jpg')[..., ::-1]\n",
    "print(image.shape)\n",
    "Image.fromarray(image)"
   ]
  },
  {
   "cell_type": "markdown",
   "id": "static-booth",
   "metadata": {},
   "source": [
    "## Torch инференс"
   ]
  },
  {
   "cell_type": "code",
   "execution_count": null,
   "id": "continental-account",
   "metadata": {},
   "outputs": [],
   "source": [
    "torch_model = torch.load(TORCH_FILE)\n",
    "_ = torch_model.eval()\n",
    "_ = torch_model.to(DEVICE)"
   ]
  },
  {
   "cell_type": "code",
   "execution_count": null,
   "id": "extreme-smith",
   "metadata": {},
   "outputs": [],
   "source": [
    "torch_input_tensor = torch_preprocessing(image).to(DEVICE)\n",
    "torch_input_tensor = torch.cat([torch_input_tensor] * BATCH_SIZE)\n",
    "print(torch_input_tensor.shape)"
   ]
  },
  {
   "cell_type": "code",
   "execution_count": null,
   "id": "willing-september",
   "metadata": {},
   "outputs": [],
   "source": [
    "with torch.no_grad():\n",
    "    torch_output_tensor = torch_model(torch_input_tensor).cpu().detach().numpy()"
   ]
  },
  {
   "cell_type": "code",
   "execution_count": null,
   "id": "rational-remains",
   "metadata": {},
   "outputs": [],
   "source": [
    "%%timeit\n",
    "with torch.no_grad():\n",
    "    torch_output_tensor = torch_model(torch_input_tensor).cpu().detach().numpy()"
   ]
  },
  {
   "cell_type": "markdown",
   "id": "refined-outline",
   "metadata": {},
   "source": [
    "## TensorRT инференс"
   ]
  },
  {
   "cell_type": "code",
   "execution_count": null,
   "id": "cd38ecdc",
   "metadata": {},
   "outputs": [],
   "source": [
    "# готовим данные\n",
    "trt_input_tensor = trt_preprocessing(image)\n",
    "trt_input_tensor = np.concatenate([trt_input_tensor] * BATCH_SIZE)\n",
    "print(trt_input_tensor.shape)"
   ]
  },
  {
   "cell_type": "code",
   "execution_count": null,
   "id": "representative-flash",
   "metadata": {},
   "outputs": [],
   "source": [
    "# загружаем модель fp32\n",
    "trt_model = TRTModel(TRT_FILE)\n",
    "trt_output_tensor = trt_model(trt_input_tensor)"
   ]
  },
  {
   "cell_type": "code",
   "execution_count": null,
   "id": "lesbian-debut",
   "metadata": {},
   "outputs": [],
   "source": [
    "%%timeit\n",
    "trt_output_tensor = trt_model(trt_input_tensor)"
   ]
  },
  {
   "cell_type": "code",
   "execution_count": null,
   "id": "compressed-indonesia",
   "metadata": {},
   "outputs": [],
   "source": [
    "# загружаем модель fp16\n",
    "trt_model_fp16 = TRTModel(TRT_FILE_FP16)\n",
    "trt_output_tensor_fp16 = trt_model_fp16(trt_input_tensor)"
   ]
  },
  {
   "cell_type": "code",
   "execution_count": null,
   "id": "worldwide-handy",
   "metadata": {},
   "outputs": [],
   "source": [
    "%%timeit\n",
    "trt_output_tensor = trt_model_fp16(trt_input_tensor)"
   ]
  },
  {
   "cell_type": "markdown",
   "id": "respiratory-dallas",
   "metadata": {},
   "source": [
    "## Сравнение"
   ]
  },
  {
   "cell_type": "code",
   "execution_count": null,
   "id": "6d7cd066",
   "metadata": {},
   "outputs": [],
   "source": [
    "np.abs(trt_output_tensor - torch_output_tensor).max((2, 3))[0, 0]"
   ]
  },
  {
   "cell_type": "code",
   "execution_count": null,
   "id": "reasonable-treasury",
   "metadata": {},
   "outputs": [],
   "source": [
    "# Сравнение логитов\n",
    "print(f'fp32: {np.abs(trt_output_tensor - torch_output_tensor).max((2, 3))[0, 0]}')\n",
    "print(f'fp16: {np.abs(trt_output_tensor_fp16 - torch_output_tensor).max((2, 3))[0, 0]}')"
   ]
  },
  {
   "cell_type": "code",
   "execution_count": null,
   "id": "atmospheric-birth",
   "metadata": {},
   "outputs": [],
   "source": [
    "# Сравнение логитов\n",
    "print(f'fp32: {np.abs(sigmoid(trt_output_tensor) - sigmoid(torch_output_tensor)).max((2, 3))[0, 0]}')\n",
    "print(f'fp16: {np.abs(sigmoid(trt_output_tensor_fp16) - sigmoid(torch_output_tensor)).max((2, 3))[0, 0]}')"
   ]
  }
 ],
 "metadata": {
  "kernelspec": {
   "display_name": "Python 3 (ipykernel)",
   "language": "python",
   "name": "python3"
  },
  "language_info": {
   "codemirror_mode": {
    "name": "ipython",
    "version": 3
   },
   "file_extension": ".py",
   "mimetype": "text/x-python",
   "name": "python",
   "nbconvert_exporter": "python",
   "pygments_lexer": "ipython3",
   "version": "3.8.13"
  }
 },
 "nbformat": 4,
 "nbformat_minor": 5
}
